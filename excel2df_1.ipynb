{
 "cells": [
  {
   "cell_type": "code",
   "execution_count": 2,
   "metadata": {},
   "outputs": [
    {
     "name": "stderr",
     "output_type": "stream",
     "text": [
      "C:\\Users\\ensem\\AppData\\Local\\Programs\\Python\\Python38\\lib\\site-packages\\numpy\\_distributor_init.py:30: UserWarning: loaded more than 1 DLL from .libs:\n",
      "C:\\Users\\ensem\\AppData\\Local\\Programs\\Python\\Python38\\lib\\site-packages\\numpy\\.libs\\libopenblas.JPIJNSWNNAN3CE6LLI5FWSPHUT2VXMTH.gfortran-win_amd64.dll\n",
      "C:\\Users\\ensem\\AppData\\Local\\Programs\\Python\\Python38\\lib\\site-packages\\numpy\\.libs\\libopenblas.WCDJNK7YVMPZQ2ME2ZZHJJRJ3JIKNDB7.gfortran-win_amd64.dll\n",
      "  warnings.warn(\"loaded more than 1 DLL from .libs:\"\n"
     ]
    }
   ],
   "source": [
    "import pandas as pd"
   ]
  },
  {
   "cell_type": "code",
   "execution_count": 1,
   "metadata": {},
   "outputs": [],
   "source": [
    "#ファイル読み込みからデータフレーム成型まで一連の処理を関数にする。\n",
    "def make_df(path):\n",
    "    '''\n",
    "    見積書を読込み、データフレームを成型する。\n",
    "    <input>\n",
    "        path : 読込みたいエクセルファイルのパス(str)\n",
    "    <output>\n",
    "        df_summary : 必要事項のみを抽出したデータフレーム(DataFrame)\n",
    "    '''\n",
    "    data = pd.read_excel(path, engine=\"openpyxl\")\n",
    "    #品名はindexでいうと12,　開始列は0列目, 終了列は4列目であることを利用してスライス\n",
    "    data1 = data.iloc[12:, :5]\n",
    "    data2 = data1.reset_index(drop=True)\n",
    "\n",
    "    #0列目が初めてNaNになるインデックスを取得する\n",
    "    nan_idx = data2[data2.iloc[:, 0].isnull()==True].index.tolist()\n",
    "    \n",
    "    #nan_idxの１つめより下の行をスライスで除去\n",
    "    data3 = data2.iloc[:nan_idx[0], :]\n",
    "\n",
    "    #カラムに入れたい0番目の値をリストに格納し、カラムとして定義する。\n",
    "    cols = data3.iloc[0, :].tolist()\n",
    "    data3.columns = cols\n",
    "\n",
    "    #0番目の行は不要なのでスライスで除去\n",
    "    data4 = data3.iloc[1:, :]\n",
    "\n",
    "    #購入日の取得\n",
    "    buy_date = data.iloc[0, 6]\n",
    "\n",
    "    #仕入先の取得\n",
    "    supplier = data.iloc[2, 0]\n",
    "\n",
    "    #データフレームへの追加\n",
    "    data4['購入日'] = buy_date\n",
    "    data4['仕入先'] = supplier\n",
    "\n",
    "    #並べ替えの方法はいくつかあるが、ここでは購入日より右、左でデータフレームを分割し、再度結合する方法をとる。\n",
    "    data4_r = data4.iloc[:, 5:]\n",
    "    data4_l = data4.iloc[:, :5]\n",
    "\n",
    "    #データフレームの結合\n",
    "    data5 = pd.concat([data4_r, data4_l], axis=1)\n",
    "\n",
    "    return data5"
   ]
  },
  {
   "cell_type": "code",
   "execution_count": 4,
   "metadata": {},
   "outputs": [
    {
     "name": "stderr",
     "output_type": "stream",
     "text": [
      "<ipython-input-1-fb376b083566>:35: SettingWithCopyWarning: \n",
      "A value is trying to be set on a copy of a slice from a DataFrame.\n",
      "Try using .loc[row_indexer,col_indexer] = value instead\n",
      "\n",
      "See the caveats in the documentation: https://pandas.pydata.org/pandas-docs/stable/user_guide/indexing.html#returning-a-view-versus-a-copy\n",
      "  data4['購入日'] = buy_date\n",
      "<ipython-input-1-fb376b083566>:36: SettingWithCopyWarning: \n",
      "A value is trying to be set on a copy of a slice from a DataFrame.\n",
      "Try using .loc[row_indexer,col_indexer] = value instead\n",
      "\n",
      "See the caveats in the documentation: https://pandas.pydata.org/pandas-docs/stable/user_guide/indexing.html#returning-a-view-versus-a-copy\n",
      "  data4['仕入先'] = supplier\n"
     ]
    },
    {
     "data": {
      "text/html": [
       "<div>\n",
       "<style scoped>\n",
       "    .dataframe tbody tr th:only-of-type {\n",
       "        vertical-align: middle;\n",
       "    }\n",
       "\n",
       "    .dataframe tbody tr th {\n",
       "        vertical-align: top;\n",
       "    }\n",
       "\n",
       "    .dataframe thead th {\n",
       "        text-align: right;\n",
       "    }\n",
       "</style>\n",
       "<table border=\"1\" class=\"dataframe\">\n",
       "  <thead>\n",
       "    <tr style=\"text-align: right;\">\n",
       "      <th></th>\n",
       "      <th>購入日</th>\n",
       "      <th>仕入先</th>\n",
       "      <th>品　　　　　名</th>\n",
       "      <th>単　　価</th>\n",
       "      <th>数　量</th>\n",
       "      <th>値引き額</th>\n",
       "      <th>金　　　額</th>\n",
       "    </tr>\n",
       "  </thead>\n",
       "  <tbody>\n",
       "    <tr>\n",
       "      <th>1</th>\n",
       "      <td>2022-02-20</td>\n",
       "      <td>株式会社〇×▽</td>\n",
       "      <td>トランジスタ</td>\n",
       "      <td>50</td>\n",
       "      <td>2</td>\n",
       "      <td>0</td>\n",
       "      <td>100</td>\n",
       "    </tr>\n",
       "    <tr>\n",
       "      <th>2</th>\n",
       "      <td>2022-02-20</td>\n",
       "      <td>株式会社〇×▽</td>\n",
       "      <td>IC</td>\n",
       "      <td>100</td>\n",
       "      <td>10</td>\n",
       "      <td>50</td>\n",
       "      <td>950</td>\n",
       "    </tr>\n",
       "    <tr>\n",
       "      <th>3</th>\n",
       "      <td>2022-02-20</td>\n",
       "      <td>株式会社〇×▽</td>\n",
       "      <td>トランス</td>\n",
       "      <td>2000</td>\n",
       "      <td>2</td>\n",
       "      <td>100</td>\n",
       "      <td>3900</td>\n",
       "    </tr>\n",
       "  </tbody>\n",
       "</table>\n",
       "</div>"
      ],
      "text/plain": [
       "         購入日      仕入先 品　　　　　名 　単　　価 　数　量 値引き額 　　金　　　額\n",
       "1 2022-02-20  株式会社〇×▽  トランジスタ    50    2    0     100\n",
       "2 2022-02-20  株式会社〇×▽      IC   100   10   50     950\n",
       "3 2022-02-20  株式会社〇×▽    トランス  2000    2  100    3900"
      ]
     },
     "execution_count": 4,
     "metadata": {},
     "output_type": "execute_result"
    }
   ],
   "source": [
    "file_paht = 'example/mitumori_ex1.xlsx'\n",
    "df = make_df(file_paht)\n",
    "df"
   ]
  },
  {
   "cell_type": "code",
   "execution_count": null,
   "metadata": {},
   "outputs": [],
   "source": []
  }
 ],
 "metadata": {
  "interpreter": {
   "hash": "dba6e4ef2a2ee8124bbbb22b5fecbc84aaced4c240d6cb4e391dc70f25771c08"
  },
  "kernelspec": {
   "display_name": "Python 3.8.6 64-bit",
   "language": "python",
   "name": "python3"
  },
  "language_info": {
   "codemirror_mode": {
    "name": "ipython",
    "version": 3
   },
   "file_extension": ".py",
   "mimetype": "text/x-python",
   "name": "python",
   "nbconvert_exporter": "python",
   "pygments_lexer": "ipython3",
   "version": "3.8.6"
  },
  "orig_nbformat": 4
 },
 "nbformat": 4,
 "nbformat_minor": 2
}
