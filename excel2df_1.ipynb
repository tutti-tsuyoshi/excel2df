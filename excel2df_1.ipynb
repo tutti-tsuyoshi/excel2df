{
 "cells": [
  {
   "cell_type": "code",
   "execution_count": null,
   "metadata": {},
   "outputs": [],
   "source": [
    "import pandas as pd"
   ]
  },
  {
   "cell_type": "code",
   "execution_count": null,
   "metadata": {},
   "outputs": [],
   "source": [
    "#ファイル読み込みからデータフレーム成型まで一連の処理を関数にする。\n",
    "def make_df(path):\n",
    "    '''\n",
    "    見積書を読込み、データフレームを成型する。\n",
    "    <input>\n",
    "        path : 読込みたいエクセルファイルのパス(str)\n",
    "    <output>\n",
    "        df_summary : 必要事項のみを抽出したデータフレーム(DataFrame)\n",
    "    '''\n",
    "    data = pd.read_excel(path, engine=\"openpyxl\")\n",
    "    #品名はindexでいうと12,　開始列は0列目, 終了列は4列目であることを利用してスライス\n",
    "    data1 = data.iloc[12:, :5]\n",
    "    data2 = data1.reset_index(drop=True)\n",
    "\n",
    "    #0列目が初めてNaNになるインデックスを取得する\n",
    "    nan_idx = data2[data2.iloc[:, 0].isnull()==True].index.tolist()\n",
    "    \n",
    "    #nan_idxの１つめより下の行をスライスで除去\n",
    "    data3 = data2.iloc[:nan_idx[0], :]\n",
    "\n",
    "    #カラムに入れたい0番目の値をリストに格納し、カラムとして定義する。\n",
    "    cols = data3.iloc[0, :].tolist()\n",
    "    data3.columns = cols\n",
    "\n",
    "    #0番目の行は不要なのでスライスで除去\n",
    "    data4 = data3.iloc[1:, :]\n",
    "\n",
    "    #購入日の取得\n",
    "    buy_date = data.iloc[0, 6]\n",
    "\n",
    "    #仕入先の取得\n",
    "    supplier = data.iloc[2, 0]\n",
    "\n",
    "    #データフレームへの追加\n",
    "    data4['購入日'] = buy_date\n",
    "    data4['仕入先'] = supplier\n",
    "\n",
    "    #並べ替えの方法はいくつかあるが、ここでは購入日より右、左でデータフレームを分割し、再度結合する方法をとる。\n",
    "    data4_r = data4.iloc[:, 5:]\n",
    "    data4_l = data4.iloc[:, :4]\n",
    "\n",
    "    #データフレームの結合\n",
    "    data5 = pd.concat([data4_r, data4_l], axis=1)\n",
    "\n",
    "    return data5"
   ]
  },
  {
   "cell_type": "code",
   "execution_count": null,
   "metadata": {},
   "outputs": [],
   "source": [
    "file_paht = 'mitumori_ex1.xlsx'\n",
    "df = make_df(file_paht)\n",
    "df"
   ]
  }
 ],
 "metadata": {
  "language_info": {
   "name": "python"
  },
  "orig_nbformat": 4
 },
 "nbformat": 4,
 "nbformat_minor": 2
}
